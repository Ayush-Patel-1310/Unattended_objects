{
 "cells": [
  {
   "cell_type": "code",
   "execution_count": 2,
   "id": "2a3b1c20",
   "metadata": {
    "scrolled": true
   },
   "outputs": [],
   "source": [
    "from ultralytics import YOLO\n",
    "import cv2\n",
    "import time\n",
    "import numpy as np\n",
    "\n",
    "coco_model = YOLO('yolov8x.pt')\n",
    "\n",
    "cap = cv2.VideoCapture(\"C:/Users/AYUSH/Downloads/unattended_video.mp4\")\n",
    "\n",
    "start_time = 0\n",
    "\n",
    "while True:\n",
    "    ret, frame = cap.read()\n",
    "    \n",
    "    if not ret:\n",
    "        break\n",
    "\n",
    "    # Detect objects\n",
    "    detections = coco_model(frame)[0]\n",
    "    detections_ = []\n",
    "    for detection in detections.boxes.data.tolist():\n",
    "        x1, y1, x2, y2, score, class_id = detection\n",
    "    # Check if handbag\n",
    "        if class_id[0] == 26:\n",
    "            \n",
    "            # Draw box with time\n",
    "            time_detected = time.strftime(\"%H:%M:%S\", time.localtime())\n",
    "            cv2.rectangle(frame, (x, y), (x+w, y+h), (0, 0, 255), 2)\n",
    "            cv2.putText(frame, time_detected, (x, y-10), cv2.FONT_HERSHEY_SIMPLEX, \n",
    "                        0.9, (36,255,12), 2)\n",
    "            \n",
    "            # Notify after 10 seconds\n",
    "            time.sleep(10)\n",
    "            print(\"Handbag detected!\")\n",
    "\n",
    "    cv2.imshow('Frame', frame)\n",
    "    \n",
    "    if cv2.waitKey(1) == ord('q'):\n",
    "        break\n",
    "        \n",
    "cap.release()\n",
    "cv2.destroyAllWindows()"
   ]
  }
 ],
 "metadata": {
  "kernelspec": {
   "display_name": "Python 3 (ipykernel)",
   "language": "python",
   "name": "python3"
  },
  "language_info": {
   "codemirror_mode": {
    "name": "ipython",
    "version": 3
   },
   "file_extension": ".py",
   "mimetype": "text/x-python",
   "name": "python",
   "nbconvert_exporter": "python",
   "pygments_lexer": "ipython3",
   "version": "3.9.13"
  }
 },
 "nbformat": 4,
 "nbformat_minor": 5
}
